{
 "cells": [
  {
   "cell_type": "markdown",
   "source": [],
   "metadata": {
    "collapsed": false
   }
  },
  {
   "cell_type": "markdown",
   "source": [
    "\n",
    "# Pyton-Blender Integration\n",
    "\n",
    "# My Information\n",
    " >Riley Wood\n",
    " >Intermediate Python\n",
    " >Gil Salu\n",
    "\n",
    "## Project type:\n",
    ">Software Plugin(s)"
   ],
   "metadata": {
    "collapsed": false
   }
  },
  {
   "cell_type": "markdown",
   "source": [
    "## Description of Application\n",
    ">Blender is a free and open-source 3D modeling program which is quickly becoming an industry leader in the world of #D asset creation. I have worked extensively with it due to my interest in technical art. An impressive feature of the software is a built-in python development console which allows users to create custom addons for the software. It comes with a custom package which allows code to interact with blender objects. I intend to learn the ins and outs of this python plugin and use it to develop a variety of features I have been hoping to see in bender.\n",
    "> Feature 1:\n",
    ">   I plan to develop a system which will allow the user to record a series of keystrokes and save them to be re-used later. this will allow for swift execution of otherwise tedious and repetitive tasks.\n",
    "> Feature 2:\n",
    ">   I have previously worked with a system that generated every possible combination of the faces at the intersection of eight cubes. this was used to create customizable and fully procedural building exteriors and interiors. I no longer have access to the system I used, but I would like to recreate it using blender's tools.\n",
    "> Feaature 2.5:\n",
    ">   An extention of feature 2, this will allow for generation of non-square intersections. Build this system to work with other regular shapes.\n",
    "\n",
    "\n"
   ],
   "metadata": {
    "collapsed": false
   }
  },
  {
   "cell_type": "markdown",
   "source": [
    "## Usage\n",
    "\n",
    ">This package will be loaded into Blender and run either by executing the script in blender or clicking a button in the blender UI (If I can get UI integration to function I have no idea how it works)\n",
    "\n",
    "### Screen shots/examples\n",
    "\n",
    "\n",
    "## Design diagrams\n",
    ">Diagrams that explain the application here\n",
    "\n"
   ],
   "metadata": {
    "collapsed": false
   }
  },
  {
   "cell_type": "markdown",
   "source": [
    "## Testing\n",
    ">How do I test the application, and what are the expected outputs\n",
    "\n"
   ],
   "metadata": {
    "collapsed": false
   }
  },
  {
   "cell_type": "markdown",
   "source": [
    "## Contributing Packages\n",
    ">updated this list with dependencies your project will use"
   ],
   "metadata": {
    "collapsed": false
   }
  },
  {
   "cell_type": "markdown",
   "source": [
    "## Learning References\n",
    ">https://docs.blender.org/api/current/info_quickstart.html\n",
    "> Blender python Quickstart. includes details on what addons to use in blender\n",
    ">\n",
    ">https://www.youtube.com/watch?v=hj3FtJsQFbA\n",
    "> Blender python Quickstart\n",
    ">\n",
    ">https://github.com/boppreh/keyboard#api\n",
    "> Keyboard input library\n",
    ">\n",
    ">https://opensourcelibs.com/lib/blender-pycharm\n",
    "> setup for blender integration with pycharm"
   ],
   "metadata": {
    "collapsed": false
   }
  },
  {
   "cell_type": "markdown",
   "source": [
    "\n",
    "# Licenses\n",
    "\n"
   ],
   "metadata": {
    "collapsed": false
   }
  },
  {
   "cell_type": "code",
   "execution_count": null,
   "outputs": [],
   "source": [],
   "metadata": {
    "collapsed": false
   }
  },
  {
   "cell_type": "code",
   "execution_count": null,
   "outputs": [],
   "source": [],
   "metadata": {
    "collapsed": false
   }
  }
 ],
 "metadata": {
  "kernelspec": {
   "display_name": "Python 3",
   "language": "python",
   "name": "python3"
  },
  "language_info": {
   "codemirror_mode": {
    "name": "ipython",
    "version": 2
   },
   "file_extension": ".py",
   "mimetype": "text/x-python",
   "name": "python",
   "nbconvert_exporter": "python",
   "pygments_lexer": "ipython2",
   "version": "2.7.6"
  }
 },
 "nbformat": 4,
 "nbformat_minor": 0
}
